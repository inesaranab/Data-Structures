{
 "cells": [
  {
   "cell_type": "code",
   "execution_count": 9,
   "id": "488bc6ef",
   "metadata": {},
   "outputs": [
    {
     "data": {
      "text/plain": [
       "5"
      ]
     },
     "execution_count": 9,
     "metadata": {},
     "output_type": "execute_result"
    }
   ],
   "source": [
    "# Reading from an array\n",
    "\n",
    "# initialize myArray\n",
    "myArray = [1,3,5]\n",
    "\n",
    "# access an arbitrary element, where i is the index of the desired value\n",
    "myArray[2]"
   ]
  },
  {
   "cell_type": "code",
   "execution_count": null,
   "id": "05099723",
   "metadata": {},
   "outputs": [],
   "source": [
    "# Traversing though an array\n",
    "\n",
    "for i in range(len(myArray)):\n",
    "   print(myArray[i])\n",
    "\n",
    "# OR\n",
    "\n",
    "i = 0\n",
    "while i < len(myArray):\n",
    "   print(myArray[i])\n",
    "   i += 1"
   ]
  },
  {
   "cell_type": "code",
   "execution_count": null,
   "id": "28edb112",
   "metadata": {},
   "outputs": [],
   "source": [
    "# Deleting from an array\n",
    "\n",
    "# Remove from the last position in the array if the array\n",
    "# is not empty (i.e. length is non-zero).\n",
    "def removeEnd(arr, length):\n",
    "    if length > 0:\n",
    "        # Overwrite last element with some default value.\n",
    "        # We would also consider the length to be decreased by 1.\n",
    "        arr[length - 1] = 0\n"
   ]
  },
  {
   "cell_type": "code",
   "execution_count": 11,
   "id": "cff7af7b",
   "metadata": {},
   "outputs": [],
   "source": [
    "# Deleting from the middle\n",
    "\n",
    "# Remove value at index i before shifting elements to the left.\n",
    "# Assuming i is a valid index.\n",
    "def removeMiddle(arr, i, length):\n",
    "    # Shift starting from i + 1 to end.\n",
    "    for index in range(i + 1, length):\n",
    "        arr[index - 1] = arr[index]\n",
    "    # No need to 'remove' arr[i], since we already shifted\n",
    "\n",
    "\n",
    "\n"
   ]
  },
  {
   "cell_type": "code",
   "execution_count": 4,
   "id": "563ab731",
   "metadata": {},
   "outputs": [],
   "source": [
    "# Inserting at the end\n",
    "\n",
    "# Insert n into arr at the next open position.\n",
    "# Length is the number of 'real' values in arr, and capacity\n",
    "# is the size (aka memory allocated for the fixed size array).\n",
    "def insertEnd(arr, n, length, capacity):\n",
    "    if length < capacity:\n",
    "        arr[length] = n"
   ]
  },
  {
   "cell_type": "code",
   "execution_count": 3,
   "id": "72f7e10d",
   "metadata": {},
   "outputs": [],
   "source": [
    "# Inserting at the ith \n",
    "\n",
    "# Insert n into index i after shifting elements to the right.\n",
    "# Assuming i is a valid index and arr is not full.\n",
    "def insertMiddle(arr, i, n, length):\n",
    "    # Shift starting from the end to i.\n",
    "    for index in range(length - 1, i - 1, -1):\n",
    "        arr[index + 1] = arr[index]\n",
    "    \n",
    "    # Insert at i\n",
    "    arr[i] = n"
   ]
  },
  {
   "cell_type": "code",
   "execution_count": 13,
   "id": "38fb5cfa",
   "metadata": {},
   "outputs": [],
   "source": [
    "from typing import List\n",
    "class Solution:\n",
    "    def removeDuplicates(self, nums: List[int]) -> int:\n",
    "        i=0\n",
    "        while i< len(nums):\n",
    "            if nums[i] in nums[:i]:\n",
    "                nums.pop(i)\n",
    "            else:\n",
    "                i+=1\n",
    "        return len(nums)\n",
    "        \n",
    "     \n",
    "        \n"
   ]
  },
  {
   "cell_type": "code",
   "execution_count": 20,
   "id": "4814876d",
   "metadata": {},
   "outputs": [
    {
     "data": {
      "text/plain": [
       "[1, 1, 1, 2, 3, 4]"
      ]
     },
     "execution_count": 20,
     "metadata": {},
     "output_type": "execute_result"
    }
   ],
   "source": [
    "my_array = [1,1,1,2,3,4]\n",
    "for i in range(i,len(my_array)):\n",
    "    if my_array[i] == 1:\n",
    "        my_array.pop(i)\n",
    "my_array"
   ]
  },
  {
   "cell_type": "code",
   "execution_count": 15,
   "id": "1fca8855",
   "metadata": {},
   "outputs": [
    {
     "name": "stdout",
     "output_type": "stream",
     "text": [
      "5\n"
     ]
    }
   ],
   "source": [
    "def removeElement(nums: List[int], val: int) -> int:\n",
    "        i = 0\n",
    "        while i < len(nums):\n",
    "            if nums[i] == val:\n",
    "                nums.pop(i)\n",
    "            i += 1\n",
    "        return len(nums)\n",
    "\n",
    "\n",
    "print(removeElement([1,1,2,3,4,5],1))\n"
   ]
  }
 ],
 "metadata": {
  "kernelspec": {
   "display_name": "base",
   "language": "python",
   "name": "python3"
  },
  "language_info": {
   "codemirror_mode": {
    "name": "ipython",
    "version": 3
   },
   "file_extension": ".py",
   "mimetype": "text/x-python",
   "name": "python",
   "nbconvert_exporter": "python",
   "pygments_lexer": "ipython3",
   "version": "3.13.5"
  }
 },
 "nbformat": 4,
 "nbformat_minor": 5
}
