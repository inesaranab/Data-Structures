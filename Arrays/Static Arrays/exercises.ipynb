{
 "cells": [
  {
   "cell_type": "code",
   "execution_count": 2,
   "id": "488bc6ef",
   "metadata": {},
   "outputs": [
    {
     "data": {
      "text/plain": [
       "5"
      ]
     },
     "execution_count": 2,
     "metadata": {},
     "output_type": "execute_result"
    }
   ],
   "source": [
    "# Reading from an array\n",
    "\n",
    "# initialize myArray\n",
    "myArray = [1,3,5]\n",
    "\n",
    "# access an arbitrary element, where i is the index of the desired value\n",
    "myArray[2]"
   ]
  },
  {
   "cell_type": "code",
   "execution_count": null,
   "id": "05099723",
   "metadata": {},
   "outputs": [],
   "source": [
    "# Traversing though an array\n",
    "\n",
    "for i in range(len(myArray)):\n",
    "   print(myArray[i])\n",
    "\n",
    "# OR\n",
    "\n",
    "i = 0\n",
    "while i < len(myArray):\n",
    "   print(myArray[i])\n",
    "   i += 1"
   ]
  },
  {
   "cell_type": "code",
   "execution_count": null,
   "id": "28edb112",
   "metadata": {},
   "outputs": [],
   "source": [
    "# Deleting from an array\n",
    "\n",
    "# Remove from the last position in the array if the array\n",
    "# is not empty (i.e. length is non-zero).\n",
    "def removeEnd(arr, length):\n",
    "    if length > 0:\n",
    "        # Overwrite last element with some default value.\n",
    "        # We would also consider the length to be decreased by 1.\n",
    "        arr[length - 1] = 0\n"
   ]
  },
  {
   "cell_type": "code",
   "execution_count": 6,
   "id": "cff7af7b",
   "metadata": {},
   "outputs": [],
   "source": [
    "# Deleting from the middle\n",
    "\n",
    "# Remove value at index i before shifting elements to the left.\n",
    "# Assuming i is a valid index.\n",
    "def removeMiddle(arr, i, length):\n",
    "    # Shift starting from i + 1 to end.\n",
    "    for index in range(i + 1, length):\n",
    "        arr[index - 1] = arr[index]\n",
    "    # No need to 'remove' arr[i], since we already shifted\n"
   ]
  },
  {
   "cell_type": "code",
   "execution_count": 4,
   "id": "563ab731",
   "metadata": {},
   "outputs": [],
   "source": [
    "# Inserting at the end\n",
    "\n",
    "# Insert n into arr at the next open position.\n",
    "# Length is the number of 'real' values in arr, and capacity\n",
    "# is the size (aka memory allocated for the fixed size array).\n",
    "def insertEnd(arr, n, length, capacity):\n",
    "    if length < capacity:\n",
    "        arr[length] = n"
   ]
  },
  {
   "cell_type": "code",
   "execution_count": 3,
   "id": "72f7e10d",
   "metadata": {},
   "outputs": [],
   "source": [
    "# Inserting at the ith \n",
    "\n",
    "# Insert n into index i after shifting elements to the right.\n",
    "# Assuming i is a valid index and arr is not full.\n",
    "def insertMiddle(arr, i, n, length):\n",
    "    # Shift starting from the end to i.\n",
    "    for index in range(length - 1, i - 1, -1):\n",
    "        arr[index + 1] = arr[index]\n",
    "    \n",
    "    # Insert at i\n",
    "    arr[i] = n"
   ]
  },
  {
   "cell_type": "code",
   "execution_count": null,
   "id": "62c2acf2",
   "metadata": {},
   "outputs": [],
   "source": [
    "# Start Coding\n",
    "\n",
    "# Initialize an array\n",
    "\n",
    "my_array = [1,2,3,4,5]\n",
    "print(my_array[2])\n",
    "\n",
    "\n",
    "# Traversing though an array\n",
    "for i in range(len(my_array)):\n",
    "    print(my_array[i])\n",
    "\n",
    "# Deleting from an array (last element)\n",
    "def removeEnd(arr,length):\n",
    "    if length >0:\n",
    "        arr[length-1] = 0\n",
    "\n",
    "\n",
    "# Deleting from the middle (shifting)\n",
    "\n",
    "\n",
    "\n",
    "# Inserting at the end\n",
    "\n",
    "\n",
    "# Inserting at the ith \n",
    "\n"
   ]
  },
  {
   "cell_type": "code",
   "execution_count": null,
   "id": "f66c48c1",
   "metadata": {},
   "outputs": [],
   "source": [
    "# Deleting from the middle (shifting)\n",
    "array = [1,2,3,4,5]\n",
    "\n",
    "def removeMiddle(arr, i, length):\n",
    "    for index in range(i+1, length):\n",
    "        "
   ]
  }
 ],
 "metadata": {
  "kernelspec": {
   "display_name": "base",
   "language": "python",
   "name": "python3"
  },
  "language_info": {
   "codemirror_mode": {
    "name": "ipython",
    "version": 3
   },
   "file_extension": ".py",
   "mimetype": "text/x-python",
   "name": "python",
   "nbconvert_exporter": "python",
   "pygments_lexer": "ipython3",
   "version": "3.13.5"
  }
 },
 "nbformat": 4,
 "nbformat_minor": 5
}
