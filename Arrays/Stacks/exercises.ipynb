{
 "cells": [
  {
   "cell_type": "code",
   "execution_count": null,
   "id": "e3c6b187",
   "metadata": {},
   "outputs": [
    {
     "name": "stdout",
     "output_type": "stream",
     "text": [
      "True\n"
     ]
    }
   ],
   "source": [
    "# Palindrome\n",
    "class Solution:\n",
    "    def is_valid_palindrome(self, s: str) -> bool:\n",
    "            mid = len(s) // 2\n",
    "            part1 = list(s[:mid])\n",
    "            part2 = list(s[mid:])\n",
    "            flag= False\n",
    "            for i in range(mid):\n",
    "                el = part2.pop()\n",
    "                le = part1[i]\n",
    "                if el == le:\n",
    "                    flag= True\n",
    "                else:\n",
    "                    flag=False\n",
    "            return flag\n",
    "        \n",
    "print(Solution().isValid(\"abba\"))"
   ]
  },
  {
   "cell_type": "code",
   "execution_count": null,
   "id": "9ab766d0",
   "metadata": {},
   "outputs": [
    {
     "name": "stdout",
     "output_type": "stream",
     "text": [
      "True\n"
     ]
    }
   ],
   "source": [
    "# Valid Parentheses\n",
    "class Solution:\n",
    "    def is_valid_parentheses(self, s: str) -> bool:\n",
    "        stack = []\n",
    "        opening= [\"[\", \"(\", \"{\"]\n",
    "        closing= [\"]\", \")\", \"}\"]\n",
    "        for index in range(len(s)):\n",
    "            if s[index] in opening:\n",
    "                stack.append(s[index]) \n",
    "            elif s[index] in closing:\n",
    "                if len(stack)<1:\n",
    "                    return False\n",
    "                el=stack.pop()\n",
    "                if closing.index(s[index]) != opening.index(el):\n",
    "                    return False\n",
    "        if len(stack)>0:\n",
    "            return False\n",
    "        else:\n",
    "            return True\n",
    "            \n",
    "print(Solution().isValid(\"()\"))"
   ]
  },
  {
   "cell_type": "code",
   "execution_count": null,
   "id": "777cc8b0",
   "metadata": {},
   "outputs": [],
   "source": [
    "class MinStack:\n",
    "\n",
    "    def __init__(self):\n",
    "        self.stack = []\n",
    "        \n",
    "\n",
    "    def push(self, val: int) -> None:\n",
    "        self.stack.append(val)\n",
    "\n",
    "    \n",
    "    def pop(self) -> None:\n",
    "        del self.stack[-1]\n",
    "\n",
    "  \n",
    "    def top(self) -> int:\n",
    "        return self.stack[-1]\n",
    "        \n",
    "\n",
    "    def getMin(self) -> int:\n",
    "        return min(self.stack)"
   ]
  },
  {
   "cell_type": "code",
   "execution_count": null,
   "id": "dd069502",
   "metadata": {},
   "outputs": [],
   "source": []
  }
 ],
 "metadata": {
  "kernelspec": {
   "display_name": "base",
   "language": "python",
   "name": "python3"
  },
  "language_info": {
   "codemirror_mode": {
    "name": "ipython",
    "version": 3
   },
   "file_extension": ".py",
   "mimetype": "text/x-python",
   "name": "python",
   "nbconvert_exporter": "python",
   "pygments_lexer": "ipython3",
   "version": "3.13.5"
  }
 },
 "nbformat": 4,
 "nbformat_minor": 5
}
